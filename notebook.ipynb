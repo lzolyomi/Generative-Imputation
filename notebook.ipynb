{
 "cells": [
  {
   "attachments": {},
   "cell_type": "markdown",
   "metadata": {},
   "source": [
    "# Test notebook\n",
    "\n",
    "This notebook contains example code on how to run and interact with the GAIN model. \n",
    "## Import and train GAIN model\n",
    "Import libraries, specify arguments and load dummy dataset. Then train a GAIN model with the run function."
   ]
  },
  {
   "cell_type": "code",
   "execution_count": null,
   "metadata": {},
   "outputs": [],
   "source": [
    "import pandas as pd\n",
    "from src.runtime import run\n",
    "import numpy as np\n",
    "data_path = 'data/letter_3ohe.csv'\n",
    "data = pd.read_csv(data_path)\n",
    "\n",
    "colnames = data.columns \n",
    "dct_args = {\n",
    "    \"batch_size\": 128,\n",
    "    \"hint_rate\": 0.9,\n",
    "    \"alpha\": 10,\n",
    "    \"beta\": 10,\n",
    "    \"epochs\": 30,\n",
    "    \"missing_rate\": 0.2,\n",
    "    \"OHE_features\": [(13,29), (29, 45), (45, 61)],  # letter_ohe: (15,31) #letter_3ohe: (13,29), (29, 45), (45, 61)\n",
    "    \"learning_rate\": 1e-4,\n",
    "    \"log\": True,\n",
    "    \"debug\": False,\n",
    "    \"rounding\": True,\n",
    "    \"early_stop\": False,\n",
    "    \"normalized_loss\": True,\n",
    "    \"validation\": False,\n",
    "}\n",
    "df = data.values "
   ]
  },
  {
   "cell_type": "code",
   "execution_count": null,
   "metadata": {},
   "outputs": [],
   "source": [
    "imputed, model = run(dct_args, data.values)"
   ]
  },
  {
   "cell_type": "markdown",
   "metadata": {},
   "source": [
    "## Imputing with GAIN\n",
    "\n",
    "The run function returned the fitted GAIN object in the variable _model_. This object can be used for imputation. Below we impute the first 50 rows of the training data set and create a data frame from them. (NOTE: this cell is purely for demonstration, the passed data does not have missing values)"
   ]
  },
  {
   "cell_type": "code",
   "execution_count": null,
   "metadata": {},
   "outputs": [],
   "source": [
    "df_imputed = model.impute(data.head(50).values)\n",
    "pd.DataFrame(df_imputed, columns=colnames).head(5)"
   ]
  },
  {
   "cell_type": "markdown",
   "metadata": {},
   "source": [
    "### Evaluators\n",
    "\n",
    "We can also use the evaluator class to look at the training process of the GAIN object. For this first change the path and filename to the training log you want to evaluate. Then initialize an Evaluator object with the path. Now you can access the `.print_summary()` and `.make_plot(col1: list, col2: list)` methods. The earlier prints out statistics of the training metrics, the latter can be used to quickly make plotly graphs about selected training metrics on two separate axes."
   ]
  },
  {
   "cell_type": "code",
   "execution_count": null,
   "metadata": {},
   "outputs": [],
   "source": [
    "from src.evaluator import Evaluator\n",
    "path = 'logs/train-run-13-59.csv' #MODIFY to last train log\n",
    "\n",
    "ev = Evaluator(path)\n",
    "ev.print_summary()"
   ]
  },
  {
   "cell_type": "code",
   "execution_count": null,
   "metadata": {},
   "outputs": [],
   "source": [
    "# ['Generator', 'Discriminator'], ['MSE Reconstruction', 'Entropy Reconstruction']\n",
    "fig = ev.make_plot(['Generator', 'Discriminator'], ['MSE Reconstruction', 'Entropy Reconstruction'])\n",
    "fig.show()"
   ]
  }
 ],
 "metadata": {
  "kernelspec": {
   "display_name": "torch",
   "language": "python",
   "name": "python3"
  },
  "language_info": {
   "codemirror_mode": {
    "name": "ipython",
    "version": 3
   },
   "file_extension": ".py",
   "mimetype": "text/x-python",
   "name": "python",
   "nbconvert_exporter": "python",
   "pygments_lexer": "ipython3",
   "version": "3.10.6"
  },
  "orig_nbformat": 4,
  "vscode": {
   "interpreter": {
    "hash": "e1315e6714f2518a6216a6eec3b047587d10875bf19b853b35d3e5c84c569e2a"
   }
  }
 },
 "nbformat": 4,
 "nbformat_minor": 2
}
